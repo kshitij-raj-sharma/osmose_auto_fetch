{
 "cells": [
  {
   "cell_type": "code",
   "execution_count": 1,
   "id": "c7639400-d7bd-469d-9263-a65b4d47db10",
   "metadata": {},
   "outputs": [
    {
     "name": "stdout",
     "output_type": "stream",
     "text": [
      "Collecting pandas\n",
      "  Using cached pandas-1.5.3-cp310-cp310-manylinux_2_17_x86_64.manylinux2014_x86_64.whl (12.1 MB)\n",
      "Requirement already satisfied: python-dateutil>=2.8.1 in ./env/lib/python3.10/site-packages (from pandas) (2.8.2)\n",
      "Collecting numpy>=1.21.0\n",
      "  Using cached numpy-1.24.1-cp310-cp310-manylinux_2_17_x86_64.manylinux2014_x86_64.whl (17.3 MB)\n",
      "Requirement already satisfied: pytz>=2020.1 in ./env/lib/python3.10/site-packages (from pandas) (2022.7.1)\n",
      "Requirement already satisfied: six>=1.5 in ./env/lib/python3.10/site-packages (from python-dateutil>=2.8.1->pandas) (1.16.0)\n",
      "Installing collected packages: numpy, pandas\n",
      "Successfully installed numpy-1.24.1 pandas-1.5.3\n"
     ]
    }
   ],
   "source": [
    "!pip install pandas"
   ]
  },
  {
   "cell_type": "code",
   "execution_count": 39,
   "id": "e0d217fb-a893-4dde-8aeb-7473dc348775",
   "metadata": {},
   "outputs": [],
   "source": [
    "import requests \n",
    "import pandas as pd\n"
   ]
  },
  {
   "cell_type": "code",
   "execution_count": 54,
   "id": "f0010573-e83a-45ea-8ad7-8f092e711f63",
   "metadata": {},
   "outputs": [
    {
     "name": "stdout",
     "output_type": "stream",
     "text": [
      "https://osmose.openstreetmap.fr/en/issues/open.json?item=xxxx&country=afghanistan\n"
     ]
    },
    {
     "ename": "NameError",
     "evalue": "name 'length' is not defined",
     "output_type": "error",
     "traceback": [
      "\u001b[0;31m---------------------------------------------------------------------------\u001b[0m",
      "\u001b[0;31mNameError\u001b[0m                                 Traceback (most recent call last)",
      "Cell \u001b[0;32mIn[54], line 29\u001b[0m\n\u001b[1;32m     27\u001b[0m data \u001b[38;5;241m=\u001b[39m []    \n\u001b[1;32m     28\u001b[0m \u001b[38;5;28;01mfor\u001b[39;00m country \u001b[38;5;129;01min\u001b[39;00m countries :\n\u001b[0;32m---> 29\u001b[0m     data\u001b[38;5;241m=\u001b[39m \u001b[43mfetch_country\u001b[49m\u001b[43m(\u001b[49m\u001b[43mcountry\u001b[49m\u001b[43m,\u001b[49m\u001b[43mdata\u001b[49m\u001b[43m)\u001b[49m\n\u001b[1;32m     31\u001b[0m \u001b[38;5;28mprint\u001b[39m(df)\n",
      "Cell \u001b[0;32mIn[54], line 21\u001b[0m, in \u001b[0;36mfetch_country\u001b[0;34m(country_name, df)\u001b[0m\n\u001b[1;32m     19\u001b[0m \u001b[38;5;28mprint\u001b[39m(call_api_url)\n\u001b[1;32m     20\u001b[0m \u001b[38;5;66;03m# Convert the JSON response to a pandas DataFrame\u001b[39;00m\n\u001b[0;32m---> 21\u001b[0m \u001b[38;5;28;01mif\u001b[39;00m \u001b[43mlength\u001b[49m(data) \u001b[38;5;241m<\u001b[39m\u001b[38;5;241m1\u001b[39m  : \n\u001b[1;32m     22\u001b[0m     data\u001b[38;5;241m=\u001b[39m response\u001b[38;5;241m.\u001b[39mjson()[\u001b[38;5;124m\"\u001b[39m\u001b[38;5;124merrors_groups\u001b[39m\u001b[38;5;124m\"\u001b[39m]\n\u001b[1;32m     23\u001b[0m \u001b[38;5;28;01melse\u001b[39;00m : \n",
      "\u001b[0;31mNameError\u001b[0m: name 'length' is not defined"
     ]
    }
   ],
   "source": [
    "BASE_API_URL=\"https://osmose.openstreetmap.fr/en/issues/open.json?item=xxxx\" \n",
    "\n",
    "countries = [    'Afghanistan',    'Bangladesh',    'Bhutan',    'Brunei Darussalam',    'Cambodia',    'Federated States of Micronesia',    'Fiji',    'India',    'Indonesia',    'Kiribati',    'Lao People\\'s Democratic Republic',    'Malaysia',    'Myanmar',    'Nepal',    'Pakistan',    'Papua New Guinea',    'Philippines',    'Solomon Islands',    'Sri Lanka',    'Timor-Leste',    'Tonga',    'Uzbekistan',    'Vanuatu',    'Viet Nam',    'Yemen']\n",
    "\n",
    "\n",
    "def is_country_exists(country_name):\n",
    "    API= \"https://osmose.openstreetmap.fr/api/0.3/countries\"\n",
    "    response = requests.get(API).json()\n",
    "    if country_name.lower() not in response[\"countries\"]:\n",
    "        print( f\"{country_name} doesn't exists on osmose\" )\n",
    "        return False\n",
    "    return True\n",
    "\n",
    "def fetch_country(country_name, df=None):\n",
    "    country_name=country_name.lower().replace(\" \", \"_\") # lower case everyname and replace spaces \n",
    "    if is_country_exists(country_name):\n",
    "        call_api_url= BASE_API_URL + f\"&country={country_name}\"\n",
    "        response = requests.get(call_api_url)\n",
    "        print(call_api_url)\n",
    "        # Convert the JSON response to a pandas DataFrame\n",
    "        if len(data) <1  : \n",
    "            data= response.json()[\"errors_groups\"]\n",
    "        else : \n",
    "            data =data.append(response.json()[\"errors_groups\"])\n",
    "        return data \n",
    "\n",
    "data = []    \n",
    "for country in countries :\n",
    "    data= fetch_country(country,data)\n",
    "    \n",
    "print(df)"
   ]
  },
  {
   "cell_type": "code",
   "execution_count": 49,
   "id": "f35f965a-6ba3-4ee1-88d4-c371a105217f",
   "metadata": {},
   "outputs": [],
   "source": [
    "df.to_csv('test.csv',index=False)"
   ]
  },
  {
   "cell_type": "code",
   "execution_count": null,
   "id": "0c02ba4d-52ac-416e-825b-cc149ac41eb0",
   "metadata": {},
   "outputs": [],
   "source": []
  }
 ],
 "metadata": {
  "kernelspec": {
   "display_name": "Python 3 (ipykernel)",
   "language": "python",
   "name": "python3"
  },
  "language_info": {
   "codemirror_mode": {
    "name": "ipython",
    "version": 3
   },
   "file_extension": ".py",
   "mimetype": "text/x-python",
   "name": "python",
   "nbconvert_exporter": "python",
   "pygments_lexer": "ipython3",
   "version": "3.10.6"
  }
 },
 "nbformat": 4,
 "nbformat_minor": 5
}
