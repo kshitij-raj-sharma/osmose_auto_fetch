{
 "cells": [
  {
   "cell_type": "code",
   "execution_count": 3,
   "id": "e0d217fb-a893-4dde-8aeb-7473dc348775",
   "metadata": {},
   "outputs": [],
   "source": [
    "import requests \n",
    "import pandas as pd"
   ]
  },
  {
   "cell_type": "code",
   "execution_count": 24,
   "id": "f0010573-e83a-45ea-8ad7-8f092e711f63",
   "metadata": {},
   "outputs": [
    {
     "name": "stdout",
     "output_type": "stream",
     "text": [
      "Fetching https://osmose.openstreetmap.fr/en/issues/open.json?item=xxxx&country=afghanistan\n",
      "Fetching https://osmose.openstreetmap.fr/en/issues/open.json?item=xxxx&country=bangladesh\n",
      "Fetching https://osmose.openstreetmap.fr/en/issues/open.json?item=xxxx&country=bhutan\n",
      "brunei_darussalam doesn't exists on osmose\n",
      "Fetching https://osmose.openstreetmap.fr/en/issues/open.json?item=xxxx&country=cambodia\n",
      "federated_states_of_micronesia doesn't exists on osmose\n",
      "Fetching https://osmose.openstreetmap.fr/en/issues/open.json?item=xxxx&country=fiji\n",
      "india doesn't exists on osmose\n",
      "Fetching https://osmose.openstreetmap.fr/en/issues/open.json?item=xxxx&country=indonesia\n",
      "Fetching https://osmose.openstreetmap.fr/en/issues/open.json?item=xxxx&country=kiribati\n",
      "lao_people's_democratic_republic doesn't exists on osmose\n",
      "Fetching https://osmose.openstreetmap.fr/en/issues/open.json?item=xxxx&country=malaysia\n",
      "Fetching https://osmose.openstreetmap.fr/en/issues/open.json?item=xxxx&country=myanmar\n",
      "Fetching https://osmose.openstreetmap.fr/en/issues/open.json?item=xxxx&country=nepal\n",
      "Fetching https://osmose.openstreetmap.fr/en/issues/open.json?item=xxxx&country=pakistan\n",
      "Fetching https://osmose.openstreetmap.fr/en/issues/open.json?item=xxxx&country=papua_new_guinea\n",
      "Fetching https://osmose.openstreetmap.fr/en/issues/open.json?item=xxxx&country=philippines\n",
      "Fetching https://osmose.openstreetmap.fr/en/issues/open.json?item=xxxx&country=solomon_islands\n",
      "Fetching https://osmose.openstreetmap.fr/en/issues/open.json?item=xxxx&country=sri_lanka\n",
      "timor-leste doesn't exists on osmose\n",
      "Fetching https://osmose.openstreetmap.fr/en/issues/open.json?item=xxxx&country=tonga\n",
      "Fetching https://osmose.openstreetmap.fr/en/issues/open.json?item=xxxx&country=uzbekistan\n",
      "Fetching https://osmose.openstreetmap.fr/en/issues/open.json?item=xxxx&country=vanuatu\n",
      "viet_nam doesn't exists on osmose\n",
      "Fetching https://osmose.openstreetmap.fr/en/issues/open.json?item=xxxx&country=yemen\n",
      "['item' 'source_id' 'class' 'country' 'analyser' 'timestamp' 'menu'\n",
      " 'title' 'count']\n"
     ]
    }
   ],
   "source": [
    "BASE_API_URL=\"https://osmose.openstreetmap.fr/en/issues/open.json?item=xxxx\" \n",
    "\n",
    "countries = [    'Afghanistan',    'Bangladesh',    'Bhutan',    'Brunei Darussalam',    'Cambodia',    'Federated States of Micronesia',    'Fiji',    'India',    'Indonesia',    'Kiribati',    'Lao People\\'s Democratic Republic',    'Malaysia',    'Myanmar',    'Nepal',    'Pakistan',    'Papua New Guinea',    'Philippines',    'Solomon Islands',    'Sri Lanka',    'Timor-Leste',    'Tonga',    'Uzbekistan',    'Vanuatu',    'Viet Nam',    'Yemen']\n",
    "\n",
    "data = []    \n",
    "\n",
    "def is_country_exists(country_name):\n",
    "    API= \"https://osmose.openstreetmap.fr/api/0.3/countries\"\n",
    "    response = requests.get(API).json()\n",
    "    if country_name.lower() not in response[\"countries\"]:\n",
    "        print( f\"{country_name} doesn't exists on osmose\" )\n",
    "        return False\n",
    "    return True\n",
    "\n",
    "def fetch_country(country_name):\n",
    "    country_name=country_name.lower().replace(\" \", \"_\") # lower case everyname and replace spaces \n",
    "    if is_country_exists(country_name):\n",
    "        call_api_url= BASE_API_URL + f\"&country={country_name}\"\n",
    "        print(f\"Fetching {call_api_url}\")\n",
    "        response = requests.get(call_api_url)\n",
    "        data.extend(response.json()[\"errors_groups\"])\n",
    "        return True\n",
    "\n",
    "#loop through each country specified \n",
    "for country in countries :\n",
    "    # fetch country data\n",
    "    fetch_country(country)\n",
    "\n",
    "\n",
    "# Convert the collected response to a pandas DataFrame\n",
    "df = pd.DataFrame(data)\n",
    "print(df. columns. values)\n",
    "\n",
    "df = df.groupby(['menu', 'country'], as_index=False)['count'].sum()\n",
    "\n",
    "pivot = df.pivot(index='menu', columns='country', values='count')\n"
   ]
  },
  {
   "cell_type": "code",
   "execution_count": 25,
   "id": "f35f965a-6ba3-4ee1-88d4-c371a105217f",
   "metadata": {},
   "outputs": [
    {
     "name": "stdout",
     "output_type": "stream",
     "text": [
      "                menu      country  count\n",
      "0  1-member relation  afghanistan      5\n",
      "1  1-member relation   bangladesh     60\n",
      "2  1-member relation       bhutan      5\n",
      "3  1-member relation     cambodia     16\n",
      "4  1-member relation         fiji      5\n",
      "country            afghanistan  bangladesh  bhutan  cambodia   fiji  kiribati  \\\n",
      "menu                                                                            \n",
      "1-member relation          5.0        60.0     5.0      16.0    5.0      11.0   \n",
      "URL                        8.0       178.0    47.0      99.0    6.0       1.0   \n",
      "access                     6.0       121.0    24.0      30.0    2.0       7.0   \n",
      "addresses                  7.0      1354.0    44.0      40.0  144.0       1.0   \n",
      "almost junction          229.0      2065.0    23.0     201.0    8.0       1.0   \n",
      "\n",
      "country            malaysia  myanmar   nepal  pakistan  papua_new_guinea  \\\n",
      "menu                                                                       \n",
      "1-member relation     149.0     36.0    41.0      44.0               4.0   \n",
      "URL                   193.0     80.0   777.0      96.0               0.0   \n",
      "access               4123.0     77.0   119.0     509.0              38.0   \n",
      "addresses             451.0    171.0   460.0     991.0               2.0   \n",
      "almost junction      1119.0    848.0  1001.0    2916.0               3.0   \n",
      "\n",
      "country            philippines  solomon_islands  sri_lanka  tonga  uzbekistan  \\\n",
      "menu                                                                            \n",
      "1-member relation         92.0              0.0       18.0    2.0       223.0   \n",
      "URL                      269.0              0.0       71.0    2.0       158.0   \n",
      "access                   591.0              1.0      556.0    2.0        64.0   \n",
      "addresses                514.0              0.0      373.0    0.0       267.0   \n",
      "almost junction          882.0             22.0      529.0    4.0       501.0   \n",
      "\n",
      "country            vanuatu  yemen  \n",
      "menu                               \n",
      "1-member relation      1.0    7.0  \n",
      "URL                    4.0   30.0  \n",
      "access                 4.0    3.0  \n",
      "addresses              6.0   32.0  \n",
      "almost junction        6.0   62.0  \n"
     ]
    }
   ],
   "source": [
    "print(df.head(5))\n",
    "print(pivot.head(5))\n",
    "pivot.to_csv('final.csv',index=True)"
   ]
  },
  {
   "cell_type": "code",
   "execution_count": null,
   "id": "0c02ba4d-52ac-416e-825b-cc149ac41eb0",
   "metadata": {},
   "outputs": [],
   "source": []
  }
 ],
 "metadata": {
  "kernelspec": {
   "display_name": "env",
   "language": "python",
   "name": "python3"
  },
  "language_info": {
   "codemirror_mode": {
    "name": "ipython",
    "version": 3
   },
   "file_extension": ".py",
   "mimetype": "text/x-python",
   "name": "python",
   "nbconvert_exporter": "python",
   "pygments_lexer": "ipython3",
   "version": "3.10.9"
  },
  "vscode": {
   "interpreter": {
    "hash": "cdfceffd67a54f8805f2a4692dd81bf6afddad8584fa32315874834146caf025"
   }
  }
 },
 "nbformat": 4,
 "nbformat_minor": 5
}
