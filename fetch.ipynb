{
 "cells": [
  {
   "cell_type": "code",
   "execution_count": null,
   "id": "e0d217fb-a893-4dde-8aeb-7473dc348775",
   "metadata": {},
   "outputs": [],
   "source": [
    "import requests \n",
    "import pandas as pd "
   ]
  },
  {
   "cell_type": "code",
   "execution_count": null,
   "id": "f0010573-e83a-45ea-8ad7-8f092e711f63",
   "metadata": {},
   "outputs": [],
   "source": [
    "BASE_API_URL=\"https://osmose.openstreetmap.fr/en/issues/open.json?item=xxxx\" \n",
    "\n",
    "countries = [    'Afghanistan',    'Bangladesh',    'Bhutan',    'Brunei',    'Cambodia',    'Micronesia',    'Fiji',    'India',    'Indonesia',    'Kiribati',    'Laos',    'Malaysia',    'Myanmar',    'Nepal',    'Pakistan',    'Papua New Guinea',    'Philippines',    'Solomon Islands',    'Sri Lanka',    'East Timor',    'Tonga',    'Uzbekistan',    'Vanuatu',    'VietNam',    'Yemen']\n",
    "\n",
    "conflicted_countries = {}\n",
    "\n",
    "data = [] \n",
    "\n",
    "def get_cleaned_country(countries):\n",
    "    formatted_countries = []\n",
    "    print(\"Sending Request to osmose Countries API\")\n",
    "    API= \"https://osmose.openstreetmap.fr/api/0.3/countries\"\n",
    "    response = requests.get(API).json()\n",
    "    countries_received=response[\"countries\"]\n",
    "    # clean bugs on osmosis api\n",
    "    if 'indonesia' in countries_received:\n",
    "        countries_received.remove('indonesia') # indonesia has bug on osmose , it has divided to sub regions yet available as single country on api \n",
    "    if 'india_dadra_and_nagar_haveli' in countries_received:\n",
    "        countries_received.remove('india_dadra_and_nagar_haveli')\n",
    "        if 'india_dadra_and_nagar_haveli_and_daman_and_diu' not in countries_received:\n",
    "            countries_received.append('india_dadra_and_nagar_haveli_and_daman_and_diu')\n",
    "    if 'india_daman_and_diu' in countries_received:\n",
    "        countries_received.remove('india_daman_and_diu')\n",
    "        if 'india_dadra_and_nagar_haveli_and_daman_and_diu' not in countries_received:\n",
    "            countries_received.append('india_dadra_and_nagar_haveli_and_daman_and_diu')\n",
    "    for country in countries:\n",
    "       country=country.lower().replace(\" \", \"_\")\n",
    "\n",
    "       if not country in countries_received:\n",
    "           \n",
    "        #    print(f\"No direct match for {country} , Trying to check subdatasets\")\n",
    "           sub_matches = [cntr for cntr in countries_received if cntr.startswith(country)]\n",
    "\n",
    "           if len(sub_matches)>0:\n",
    "               formatted_countries.extend(sub_matches)\n",
    "               conflicted_countries[country]=sub_matches\n",
    "           else :\n",
    "               print(f\"Match didn't found for {country}\")\n",
    "       else :\n",
    "           formatted_countries.append(country)\n",
    "    return formatted_countries\n",
    "            \n",
    "def is_country_exists(country_name):\n",
    "    API= \"https://osmose.openstreetmap.fr/api/0.3/countries\"\n",
    "    response = requests.get(API).json()\n",
    "    if country_name.lower() not in response[\"countries\"]:\n",
    "        print( f\"{country_name} doesn't exists on osmose\" )\n",
    "        return False\n",
    "    return True\n",
    "\n",
    "def fetch_country(country_name):\n",
    "    country_name=country_name.lower().replace(\" \", \"_\") # lower case everyname and replace spaces \n",
    "    if is_country_exists(country_name):\n",
    "        call_api_url= BASE_API_URL + f\"&country={country_name}\"\n",
    "        print(f\"Fetching {call_api_url}\")\n",
    "        response = requests.get(call_api_url)\n",
    "        if response.status_code == 200:\n",
    "            data.extend(response.json()[\"errors_groups\"])\n",
    "            return True\n",
    "        return False"
   ]
  },
  {
   "cell_type": "code",
   "execution_count": null,
   "id": "73833595",
   "metadata": {},
   "outputs": [],
   "source": [
    "formatted_countries=get_cleaned_country(countries)\n",
    "#loop through each country specified \n",
    "for country in formatted_countries :\n",
    "    # fetch country data\n",
    "    status= fetch_country(country)\n",
    "    if status is False:\n",
    "        print(\"Error for {country}\")\n",
    "\n",
    "# Convert the collected response to a pandas DataFrame\n",
    "meta_df = pd.DataFrame(data)\n",
    "\n",
    "df = meta_df.groupby(['menu', 'country'], as_index=False)['count'].sum()\n",
    "\n",
    "pivot = df.pivot(index='menu', columns='country', values='count')"
   ]
  },
  {
   "cell_type": "code",
   "execution_count": null,
   "id": "69f8bc06",
   "metadata": {},
   "outputs": [],
   "source": [
    "# print(conflicted_countries)\n",
    "print(pivot.columns.tolist())\n",
    "for key in conflicted_countries.keys():\n",
    "    # Extract the new column name and the column names to be merged\n",
    "    new_column_name = key\n",
    "    print(key)\n",
    "    columns_to_merge = conflicted_countries[key]\n",
    "    print(columns_to_merge)\n",
    "\n",
    "    # Create the new column as the sum of the specified columns\n",
    "    pivot[new_column_name] = pivot[columns_to_merge].sum(axis=1)\n",
    "    # Drop the merged columns\n",
    "    pivot.drop(columns_to_merge, axis=1, inplace=True)"
   ]
  },
  {
   "cell_type": "code",
   "execution_count": null,
   "id": "a08ca680",
   "metadata": {},
   "outputs": [],
   "source": [
    "pivot['Total'] = pivot.sum(axis=1)\n",
    "pivot.loc['Total'] = pivot.sum(axis=0)\n",
    "\n",
    "print(pivot.columns.tolist())"
   ]
  },
  {
   "cell_type": "code",
   "execution_count": null,
   "id": "f35f965a-6ba3-4ee1-88d4-c371a105217f",
   "metadata": {},
   "outputs": [],
   "source": [
    "meta_df.to_csv('data/meta.csv',index=True)\n",
    "pivot.to_csv('data/summary.csv',index=True)"
   ]
  },
  {
   "cell_type": "code",
   "execution_count": null,
   "id": "bbb483c8",
   "metadata": {},
   "outputs": [],
   "source": []
  }
 ],
 "metadata": {
  "kernelspec": {
   "display_name": "env",
   "language": "python",
   "name": "python3"
  },
  "language_info": {
   "codemirror_mode": {
    "name": "ipython",
    "version": 3
   },
   "file_extension": ".py",
   "mimetype": "text/x-python",
   "name": "python",
   "nbconvert_exporter": "python",
   "pygments_lexer": "ipython3",
   "version": "3.10.6"
  },
  "vscode": {
   "interpreter": {
    "hash": "c75fc6ef08a66ae3abd49eeee33224bf6598eab5c5cb052965ae81609b6fe5fb"
   }
  }
 },
 "nbformat": 4,
 "nbformat_minor": 5
}
